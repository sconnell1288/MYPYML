{
 "cells": [
  {
   "cell_type": "code",
   "execution_count": 1,
   "metadata": {
    "collapsed": true
   },
   "outputs": [],
   "source": [
    "import pandas as pd\n",
    "import numpy as np \n",
    "import matplotlib.pyplot as plt \n",
    "import seaborn as sns \n",
    "%matplotlib inline"
   ]
  },
  {
   "cell_type": "code",
   "execution_count": 2,
   "metadata": {
    "collapsed": true
   },
   "outputs": [],
   "source": [
    "nfl_data = pd.read_csv('nfl_draft.csv')"
   ]
  },
  {
   "cell_type": "code",
   "execution_count": 3,
   "metadata": {},
   "outputs": [
    {
     "data": {
      "text/html": [
       "<div>\n",
       "<style scoped>\n",
       "    .dataframe tbody tr th:only-of-type {\n",
       "        vertical-align: middle;\n",
       "    }\n",
       "\n",
       "    .dataframe tbody tr th {\n",
       "        vertical-align: top;\n",
       "    }\n",
       "\n",
       "    .dataframe thead th {\n",
       "        text-align: right;\n",
       "    }\n",
       "</style>\n",
       "<table border=\"1\" class=\"dataframe\">\n",
       "  <thead>\n",
       "    <tr style=\"text-align: right;\">\n",
       "      <th></th>\n",
       "      <th>Player_Id</th>\n",
       "      <th>Year</th>\n",
       "      <th>Rnd</th>\n",
       "      <th>Pick</th>\n",
       "      <th>Tm</th>\n",
       "      <th>Player</th>\n",
       "      <th>Pos</th>\n",
       "      <th>Position Standard</th>\n",
       "      <th>First4AV</th>\n",
       "      <th>Age</th>\n",
       "      <th>...</th>\n",
       "      <th>Rush_Yds</th>\n",
       "      <th>Rush_TDs</th>\n",
       "      <th>Rec</th>\n",
       "      <th>Rec_Yds</th>\n",
       "      <th>Rec_Tds</th>\n",
       "      <th>Tkl</th>\n",
       "      <th>Def_Int</th>\n",
       "      <th>Sk</th>\n",
       "      <th>College/Univ</th>\n",
       "      <th>Unnamed: 32</th>\n",
       "    </tr>\n",
       "  </thead>\n",
       "  <tbody>\n",
       "    <tr>\n",
       "      <th>0</th>\n",
       "      <td>WinsJa00</td>\n",
       "      <td>2015</td>\n",
       "      <td>1.0</td>\n",
       "      <td>1</td>\n",
       "      <td>TAM</td>\n",
       "      <td>Jameis Winston</td>\n",
       "      <td>QB</td>\n",
       "      <td>QB</td>\n",
       "      <td>13</td>\n",
       "      <td>21.0</td>\n",
       "      <td>...</td>\n",
       "      <td>311.0</td>\n",
       "      <td>7.0</td>\n",
       "      <td>NaN</td>\n",
       "      <td>NaN</td>\n",
       "      <td>NaN</td>\n",
       "      <td>NaN</td>\n",
       "      <td>NaN</td>\n",
       "      <td>NaN</td>\n",
       "      <td>Florida St.</td>\n",
       "      <td>NaN</td>\n",
       "    </tr>\n",
       "    <tr>\n",
       "      <th>1</th>\n",
       "      <td>MariMa01</td>\n",
       "      <td>2015</td>\n",
       "      <td>1.0</td>\n",
       "      <td>2</td>\n",
       "      <td>TEN</td>\n",
       "      <td>Marcus Mariota</td>\n",
       "      <td>QB</td>\n",
       "      <td>QB</td>\n",
       "      <td>9</td>\n",
       "      <td>21.0</td>\n",
       "      <td>...</td>\n",
       "      <td>516.0</td>\n",
       "      <td>4.0</td>\n",
       "      <td>1.0</td>\n",
       "      <td>41.0</td>\n",
       "      <td>1.0</td>\n",
       "      <td>NaN</td>\n",
       "      <td>NaN</td>\n",
       "      <td>NaN</td>\n",
       "      <td>Oregon</td>\n",
       "      <td>NaN</td>\n",
       "    </tr>\n",
       "    <tr>\n",
       "      <th>2</th>\n",
       "      <td>FowlDa00</td>\n",
       "      <td>2015</td>\n",
       "      <td>1.0</td>\n",
       "      <td>3</td>\n",
       "      <td>JAX</td>\n",
       "      <td>Dante Fowler</td>\n",
       "      <td>OLB</td>\n",
       "      <td>LB</td>\n",
       "      <td>0</td>\n",
       "      <td>21.0</td>\n",
       "      <td>...</td>\n",
       "      <td>NaN</td>\n",
       "      <td>NaN</td>\n",
       "      <td>NaN</td>\n",
       "      <td>NaN</td>\n",
       "      <td>NaN</td>\n",
       "      <td>16.0</td>\n",
       "      <td>NaN</td>\n",
       "      <td>2.5</td>\n",
       "      <td>Florida</td>\n",
       "      <td>NaN</td>\n",
       "    </tr>\n",
       "    <tr>\n",
       "      <th>3</th>\n",
       "      <td>CoopAm00</td>\n",
       "      <td>2015</td>\n",
       "      <td>1.0</td>\n",
       "      <td>4</td>\n",
       "      <td>OAK</td>\n",
       "      <td>Amari Cooper</td>\n",
       "      <td>WR</td>\n",
       "      <td>WR</td>\n",
       "      <td>9</td>\n",
       "      <td>21.0</td>\n",
       "      <td>...</td>\n",
       "      <td>-3.0</td>\n",
       "      <td>0.0</td>\n",
       "      <td>134.0</td>\n",
       "      <td>1970.0</td>\n",
       "      <td>9.0</td>\n",
       "      <td>NaN</td>\n",
       "      <td>NaN</td>\n",
       "      <td>NaN</td>\n",
       "      <td>Alabama</td>\n",
       "      <td>NaN</td>\n",
       "    </tr>\n",
       "    <tr>\n",
       "      <th>4</th>\n",
       "      <td>ScheBr00</td>\n",
       "      <td>2015</td>\n",
       "      <td>1.0</td>\n",
       "      <td>5</td>\n",
       "      <td>WAS</td>\n",
       "      <td>Brandon Scherff</td>\n",
       "      <td>T</td>\n",
       "      <td>T</td>\n",
       "      <td>7</td>\n",
       "      <td>23.0</td>\n",
       "      <td>...</td>\n",
       "      <td>NaN</td>\n",
       "      <td>NaN</td>\n",
       "      <td>NaN</td>\n",
       "      <td>NaN</td>\n",
       "      <td>NaN</td>\n",
       "      <td>NaN</td>\n",
       "      <td>NaN</td>\n",
       "      <td>NaN</td>\n",
       "      <td>Iowa</td>\n",
       "      <td>NaN</td>\n",
       "    </tr>\n",
       "  </tbody>\n",
       "</table>\n",
       "<p>5 rows × 33 columns</p>\n",
       "</div>"
      ],
      "text/plain": [
       "  Player_Id  Year  Rnd  Pick   Tm           Player  Pos Position Standard  \\\n",
       "0  WinsJa00  2015  1.0     1  TAM   Jameis Winston   QB                QB   \n",
       "1  MariMa01  2015  1.0     2  TEN   Marcus Mariota   QB                QB   \n",
       "2  FowlDa00  2015  1.0     3  JAX     Dante Fowler  OLB                LB   \n",
       "3  CoopAm00  2015  1.0     4  OAK     Amari Cooper   WR                WR   \n",
       "4  ScheBr00  2015  1.0     5  WAS  Brandon Scherff    T                 T   \n",
       "\n",
       "   First4AV   Age     ...       Rush_Yds  Rush_TDs    Rec  Rec_Yds  Rec_Tds  \\\n",
       "0        13  21.0     ...          311.0       7.0    NaN      NaN      NaN   \n",
       "1         9  21.0     ...          516.0       4.0    1.0     41.0      1.0   \n",
       "2         0  21.0     ...            NaN       NaN    NaN      NaN      NaN   \n",
       "3         9  21.0     ...           -3.0       0.0  134.0   1970.0      9.0   \n",
       "4         7  23.0     ...            NaN       NaN    NaN      NaN      NaN   \n",
       "\n",
       "    Tkl  Def_Int   Sk  College/Univ  Unnamed: 32  \n",
       "0   NaN      NaN  NaN   Florida St.          NaN  \n",
       "1   NaN      NaN  NaN        Oregon          NaN  \n",
       "2  16.0      NaN  2.5       Florida          NaN  \n",
       "3   NaN      NaN  NaN       Alabama          NaN  \n",
       "4   NaN      NaN  NaN          Iowa          NaN  \n",
       "\n",
       "[5 rows x 33 columns]"
      ]
     },
     "execution_count": 3,
     "metadata": {},
     "output_type": "execute_result"
    }
   ],
   "source": [
    "nfl_data.head()"
   ]
  },
  {
   "cell_type": "code",
   "execution_count": 9,
   "metadata": {},
   "outputs": [
    {
     "data": {
      "text/html": [
       "<div>\n",
       "<style scoped>\n",
       "    .dataframe tbody tr th:only-of-type {\n",
       "        vertical-align: middle;\n",
       "    }\n",
       "\n",
       "    .dataframe tbody tr th {\n",
       "        vertical-align: top;\n",
       "    }\n",
       "\n",
       "    .dataframe thead th {\n",
       "        text-align: right;\n",
       "    }\n",
       "</style>\n",
       "<table border=\"1\" class=\"dataframe\">\n",
       "  <thead>\n",
       "    <tr style=\"text-align: right;\">\n",
       "      <th></th>\n",
       "      <th>Year</th>\n",
       "      <th>Rnd</th>\n",
       "      <th>Pick</th>\n",
       "      <th>First4AV</th>\n",
       "      <th>Age</th>\n",
       "      <th>To</th>\n",
       "      <th>AP1</th>\n",
       "      <th>PB</th>\n",
       "      <th>St</th>\n",
       "      <th>CarAV</th>\n",
       "      <th>...</th>\n",
       "      <th>Pass_TD</th>\n",
       "      <th>Pass_Int</th>\n",
       "      <th>Rush_Att</th>\n",
       "      <th>Rush_Yds</th>\n",
       "      <th>Rush_TDs</th>\n",
       "      <th>Rec</th>\n",
       "      <th>Rec_Yds</th>\n",
       "      <th>Rec_Tds</th>\n",
       "      <th>Tkl</th>\n",
       "      <th>Def_Int</th>\n",
       "    </tr>\n",
       "  </thead>\n",
       "  <tbody>\n",
       "    <tr>\n",
       "      <th>count</th>\n",
       "      <td>8435.000000</td>\n",
       "      <td>8211.000000</td>\n",
       "      <td>8435.000000</td>\n",
       "      <td>8435.00000</td>\n",
       "      <td>7190.000000</td>\n",
       "      <td>7053.000000</td>\n",
       "      <td>8435.000000</td>\n",
       "      <td>8435.000000</td>\n",
       "      <td>8435.000000</td>\n",
       "      <td>7053.000000</td>\n",
       "      <td>...</td>\n",
       "      <td>594.000000</td>\n",
       "      <td>594.000000</td>\n",
       "      <td>1646.000000</td>\n",
       "      <td>1646.000000</td>\n",
       "      <td>1646.000000</td>\n",
       "      <td>2171.000000</td>\n",
       "      <td>2171.000000</td>\n",
       "      <td>2171.000000</td>\n",
       "      <td>4111.000000</td>\n",
       "      <td>1616.000000</td>\n",
       "    </tr>\n",
       "    <tr>\n",
       "      <th>mean</th>\n",
       "      <td>1999.197629</td>\n",
       "      <td>4.966508</td>\n",
       "      <td>139.141316</td>\n",
       "      <td>9.92709</td>\n",
       "      <td>22.639499</td>\n",
       "      <td>2004.610804</td>\n",
       "      <td>0.073622</td>\n",
       "      <td>0.275874</td>\n",
       "      <td>1.830587</td>\n",
       "      <td>17.276195</td>\n",
       "      <td>...</td>\n",
       "      <td>25.038721</td>\n",
       "      <td>18.915825</td>\n",
       "      <td>202.143378</td>\n",
       "      <td>827.727825</td>\n",
       "      <td>5.801944</td>\n",
       "      <td>105.699678</td>\n",
       "      <td>1243.660525</td>\n",
       "      <td>7.409949</td>\n",
       "      <td>86.745804</td>\n",
       "      <td>9.211943</td>\n",
       "    </tr>\n",
       "    <tr>\n",
       "      <th>std</th>\n",
       "      <td>9.180569</td>\n",
       "      <td>2.788304</td>\n",
       "      <td>83.237196</td>\n",
       "      <td>13.13477</td>\n",
       "      <td>0.844544</td>\n",
       "      <td>9.061308</td>\n",
       "      <td>0.465718</td>\n",
       "      <td>1.106443</td>\n",
       "      <td>2.972463</td>\n",
       "      <td>22.390409</td>\n",
       "      <td>...</td>\n",
       "      <td>63.515187</td>\n",
       "      <td>40.940416</td>\n",
       "      <td>453.280726</td>\n",
       "      <td>1914.291647</td>\n",
       "      <td>13.950791</td>\n",
       "      <td>170.804626</td>\n",
       "      <td>2237.914954</td>\n",
       "      <td>15.079805</td>\n",
       "      <td>149.519255</td>\n",
       "      <td>15.989047</td>\n",
       "    </tr>\n",
       "    <tr>\n",
       "      <th>min</th>\n",
       "      <td>1985.000000</td>\n",
       "      <td>1.000000</td>\n",
       "      <td>1.000000</td>\n",
       "      <td>-4.00000</td>\n",
       "      <td>20.000000</td>\n",
       "      <td>1985.000000</td>\n",
       "      <td>0.000000</td>\n",
       "      <td>0.000000</td>\n",
       "      <td>0.000000</td>\n",
       "      <td>-4.000000</td>\n",
       "      <td>...</td>\n",
       "      <td>0.000000</td>\n",
       "      <td>0.000000</td>\n",
       "      <td>0.000000</td>\n",
       "      <td>-36.000000</td>\n",
       "      <td>0.000000</td>\n",
       "      <td>0.000000</td>\n",
       "      <td>-19.000000</td>\n",
       "      <td>0.000000</td>\n",
       "      <td>1.000000</td>\n",
       "      <td>0.500000</td>\n",
       "    </tr>\n",
       "    <tr>\n",
       "      <th>25%</th>\n",
       "      <td>1991.000000</td>\n",
       "      <td>3.000000</td>\n",
       "      <td>69.000000</td>\n",
       "      <td>0.00000</td>\n",
       "      <td>22.000000</td>\n",
       "      <td>1997.000000</td>\n",
       "      <td>0.000000</td>\n",
       "      <td>0.000000</td>\n",
       "      <td>0.000000</td>\n",
       "      <td>1.000000</td>\n",
       "      <td>...</td>\n",
       "      <td>0.000000</td>\n",
       "      <td>0.000000</td>\n",
       "      <td>3.000000</td>\n",
       "      <td>11.000000</td>\n",
       "      <td>0.000000</td>\n",
       "      <td>4.000000</td>\n",
       "      <td>41.000000</td>\n",
       "      <td>0.000000</td>\n",
       "      <td>4.000000</td>\n",
       "      <td>1.000000</td>\n",
       "    </tr>\n",
       "    <tr>\n",
       "      <th>50%</th>\n",
       "      <td>1999.000000</td>\n",
       "      <td>5.000000</td>\n",
       "      <td>137.000000</td>\n",
       "      <td>4.00000</td>\n",
       "      <td>23.000000</td>\n",
       "      <td>2006.000000</td>\n",
       "      <td>0.000000</td>\n",
       "      <td>0.000000</td>\n",
       "      <td>0.000000</td>\n",
       "      <td>8.000000</td>\n",
       "      <td>...</td>\n",
       "      <td>1.000000</td>\n",
       "      <td>1.000000</td>\n",
       "      <td>22.000000</td>\n",
       "      <td>94.000000</td>\n",
       "      <td>0.000000</td>\n",
       "      <td>34.000000</td>\n",
       "      <td>315.000000</td>\n",
       "      <td>1.000000</td>\n",
       "      <td>17.000000</td>\n",
       "      <td>3.500000</td>\n",
       "    </tr>\n",
       "    <tr>\n",
       "      <th>75%</th>\n",
       "      <td>2007.000000</td>\n",
       "      <td>7.000000</td>\n",
       "      <td>205.000000</td>\n",
       "      <td>16.00000</td>\n",
       "      <td>23.000000</td>\n",
       "      <td>2013.000000</td>\n",
       "      <td>0.000000</td>\n",
       "      <td>0.000000</td>\n",
       "      <td>3.000000</td>\n",
       "      <td>26.000000</td>\n",
       "      <td>...</td>\n",
       "      <td>12.750000</td>\n",
       "      <td>16.750000</td>\n",
       "      <td>179.750000</td>\n",
       "      <td>655.500000</td>\n",
       "      <td>5.000000</td>\n",
       "      <td>136.500000</td>\n",
       "      <td>1383.500000</td>\n",
       "      <td>8.000000</td>\n",
       "      <td>102.000000</td>\n",
       "      <td>10.000000</td>\n",
       "    </tr>\n",
       "    <tr>\n",
       "      <th>max</th>\n",
       "      <td>2015.000000</td>\n",
       "      <td>12.000000</td>\n",
       "      <td>336.000000</td>\n",
       "      <td>88.00000</td>\n",
       "      <td>29.000000</td>\n",
       "      <td>2016.000000</td>\n",
       "      <td>10.000000</td>\n",
       "      <td>14.000000</td>\n",
       "      <td>19.000000</td>\n",
       "      <td>177.000000</td>\n",
       "      <td>...</td>\n",
       "      <td>539.000000</td>\n",
       "      <td>336.000000</td>\n",
       "      <td>4409.000000</td>\n",
       "      <td>18355.000000</td>\n",
       "      <td>164.000000</td>\n",
       "      <td>1549.000000</td>\n",
       "      <td>22895.000000</td>\n",
       "      <td>197.000000</td>\n",
       "      <td>1562.000000</td>\n",
       "      <td>200.000000</td>\n",
       "    </tr>\n",
       "  </tbody>\n",
       "</table>\n",
       "<p>8 rows × 25 columns</p>\n",
       "</div>"
      ],
      "text/plain": [
       "              Year          Rnd         Pick    First4AV          Age  \\\n",
       "count  8435.000000  8211.000000  8435.000000  8435.00000  7190.000000   \n",
       "mean   1999.197629     4.966508   139.141316     9.92709    22.639499   \n",
       "std       9.180569     2.788304    83.237196    13.13477     0.844544   \n",
       "min    1985.000000     1.000000     1.000000    -4.00000    20.000000   \n",
       "25%    1991.000000     3.000000    69.000000     0.00000    22.000000   \n",
       "50%    1999.000000     5.000000   137.000000     4.00000    23.000000   \n",
       "75%    2007.000000     7.000000   205.000000    16.00000    23.000000   \n",
       "max    2015.000000    12.000000   336.000000    88.00000    29.000000   \n",
       "\n",
       "                To          AP1           PB           St        CarAV  \\\n",
       "count  7053.000000  8435.000000  8435.000000  8435.000000  7053.000000   \n",
       "mean   2004.610804     0.073622     0.275874     1.830587    17.276195   \n",
       "std       9.061308     0.465718     1.106443     2.972463    22.390409   \n",
       "min    1985.000000     0.000000     0.000000     0.000000    -4.000000   \n",
       "25%    1997.000000     0.000000     0.000000     0.000000     1.000000   \n",
       "50%    2006.000000     0.000000     0.000000     0.000000     8.000000   \n",
       "75%    2013.000000     0.000000     0.000000     3.000000    26.000000   \n",
       "max    2016.000000    10.000000    14.000000    19.000000   177.000000   \n",
       "\n",
       "          ...          Pass_TD    Pass_Int     Rush_Att      Rush_Yds  \\\n",
       "count     ...       594.000000  594.000000  1646.000000   1646.000000   \n",
       "mean      ...        25.038721   18.915825   202.143378    827.727825   \n",
       "std       ...        63.515187   40.940416   453.280726   1914.291647   \n",
       "min       ...         0.000000    0.000000     0.000000    -36.000000   \n",
       "25%       ...         0.000000    0.000000     3.000000     11.000000   \n",
       "50%       ...         1.000000    1.000000    22.000000     94.000000   \n",
       "75%       ...        12.750000   16.750000   179.750000    655.500000   \n",
       "max       ...       539.000000  336.000000  4409.000000  18355.000000   \n",
       "\n",
       "          Rush_TDs          Rec       Rec_Yds      Rec_Tds          Tkl  \\\n",
       "count  1646.000000  2171.000000   2171.000000  2171.000000  4111.000000   \n",
       "mean      5.801944   105.699678   1243.660525     7.409949    86.745804   \n",
       "std      13.950791   170.804626   2237.914954    15.079805   149.519255   \n",
       "min       0.000000     0.000000    -19.000000     0.000000     1.000000   \n",
       "25%       0.000000     4.000000     41.000000     0.000000     4.000000   \n",
       "50%       0.000000    34.000000    315.000000     1.000000    17.000000   \n",
       "75%       5.000000   136.500000   1383.500000     8.000000   102.000000   \n",
       "max     164.000000  1549.000000  22895.000000   197.000000  1562.000000   \n",
       "\n",
       "           Def_Int  \n",
       "count  1616.000000  \n",
       "mean      9.211943  \n",
       "std      15.989047  \n",
       "min       0.500000  \n",
       "25%       1.000000  \n",
       "50%       3.500000  \n",
       "75%      10.000000  \n",
       "max     200.000000  \n",
       "\n",
       "[8 rows x 25 columns]"
      ]
     },
     "execution_count": 9,
     "metadata": {},
     "output_type": "execute_result"
    }
   ],
   "source": [
    "nfl_data.describe()"
   ]
  },
  {
   "cell_type": "code",
   "execution_count": 6,
   "metadata": {},
   "outputs": [
    {
     "data": {
      "text/plain": [
       "<matplotlib.axes._subplots.AxesSubplot at 0x9bc3b00>"
      ]
     },
     "execution_count": 6,
     "metadata": {},
     "output_type": "execute_result"
    },
    {
     "data": {
      "image/png": "[encoded data removed]",
      "text/plain": [
       "<Figure size 432x288 with 1 Axes>"
      ]
     },
     "metadata": {},
     "output_type": "display_data"
    }
   ],
   "source": [
    "sns.heatmap(nfl_data.isnull(),yticklabels=False,cbar=False,cmap='viridis')"
   ]
  },
  {
   "cell_type": "code",
   "execution_count": 8,
   "metadata": {},
   "outputs": [
    {
     "name": "stderr",
     "output_type": "stream",
     "text": [
      "C:\\Users\\Stephanie\\Anaconda2\\envs\\ipykernel_py3\\lib\\site-packages\\matplotlib\\axes\\_axes.py:6462: UserWarning: The 'normed' kwarg is deprecated, and has been replaced by the 'density' kwarg.\n",
      "  warnings.warn(\"The 'normed' kwarg is deprecated, and has been \"\n"
     ]
    },
    {
     "data": {
      "text/plain": [
       "<matplotlib.axes._subplots.AxesSubplot at 0x9bc3080>"
      ]
     },
     "execution_count": 8,
     "metadata": {},
     "output_type": "execute_result"
    },
    {
     "data": {
      "image/png": "[encoded data removed]",
      "text/plain": [
       "<Figure size 432x288 with 1 Axes>"
      ]
     },
     "metadata": {},
     "output_type": "display_data"
    }
   ],
   "source": [
    "sns.distplot(nfl_data['Age'].dropna(),kde=True,bins=50)"
   ]
  },
  {
   "cell_type": "code",
   "execution_count": 13,
   "metadata": {
    "collapsed": true
   },
   "outputs": [],
   "source": [
    "def impute_age(cols):\n",
    "    Age = cols\n",
    "    \n",
    "    if pd.isnull(Age):\n",
    "        return 22.6\n",
    "    else: \n",
    "        return Age"
   ]
  },
  {
   "cell_type": "code",
   "execution_count": 15,
   "metadata": {},
   "outputs": [],
   "source": [
    "nfl_data['Age']=nfl_data['Age'].apply(impute_age)"
   ]
  },
  {
   "cell_type": "code",
   "execution_count": 18,
   "metadata": {},
   "outputs": [
    {
     "data": {
      "text/plain": [
       "<matplotlib.axes._subplots.AxesSubplot at 0x68a1c18>"
      ]
     },
     "execution_count": 18,
     "metadata": {},
     "output_type": "execute_result"
    },
    {
     "data": {
      "image/png": "[encoded data removed]",
      "text/plain": [
       "<Figure size 432x288 with 1 Axes>"
      ]
     },
     "metadata": {},
     "output_type": "display_data"
    }
   ],
   "source": [
    "sns.heatmap(nfl_data.isnull(),yticklabels=False,cbar=False,cmap='viridis')"
   ]
  },
  {
   "cell_type": "code",
   "execution_count": 24,
   "metadata": {},
   "outputs": [
    {
     "data": {
      "text/plain": [
       "0           Florida St.\n",
       "1                Oregon\n",
       "2               Florida\n",
       "3               Alabama\n",
       "4                  Iowa\n",
       "5                   USC\n",
       "6         West Virginia\n",
       "7               Clemson\n",
       "8            Miami (FL)\n",
       "9               Georgia\n",
       "10         Michigan St.\n",
       "11           Washington\n",
       "12             Stanford\n",
       "13           Louisville\n",
       "14            Wisconsin\n",
       "15          Wake Forest\n",
       "16               Oregon\n",
       "17           Washington\n",
       "18          Florida St.\n",
       "19                  USC\n",
       "20            Texas A&M\n",
       "21             Kentucky\n",
       "22             Missouri\n",
       "23              Florida\n",
       "24           Washington\n",
       "25      Central Florida\n",
       "26          Connecticut\n",
       "27                 Duke\n",
       "28           Miami (FL)\n",
       "29          Arizona St.\n",
       "             ...       \n",
       "8405                NaN\n",
       "8406                NaN\n",
       "8407                NaN\n",
       "8408                NaN\n",
       "8409                NaN\n",
       "8410                NaN\n",
       "8411                NaN\n",
       "8412                NaN\n",
       "8413                NaN\n",
       "8414                NaN\n",
       "8415                NaN\n",
       "8416                NaN\n",
       "8417                NaN\n",
       "8418                NaN\n",
       "8419                NaN\n",
       "8420                NaN\n",
       "8421                NaN\n",
       "8422                NaN\n",
       "8423                NaN\n",
       "8424                NaN\n",
       "8425                NaN\n",
       "8426                NaN\n",
       "8427                NaN\n",
       "8428                NaN\n",
       "8429                NaN\n",
       "8430                NaN\n",
       "8431                NaN\n",
       "8432                NaN\n",
       "8433                NaN\n",
       "8434                NaN\n",
       "Name: College/Univ, Length: 8435, dtype: object"
      ]
     },
     "execution_count": 24,
     "metadata": {},
     "output_type": "execute_result"
    }
   ],
   "source": [
    "nfl_data['College/Univ']"
   ]
  },
  {
   "cell_type": "code",
   "execution_count": 25,
   "metadata": {
    "collapsed": true
   },
   "outputs": [],
   "source": [
    "def impute_college(cols):\n",
    "    College = cols\n",
    "    \n",
    "    if pd.isnull(College):\n",
    "        return 0\n",
    "    else: \n",
    "        return 1"
   ]
  },
  {
   "cell_type": "code",
   "execution_count": 26,
   "metadata": {
    "collapsed": true
   },
   "outputs": [],
   "source": [
    "nfl_data['College/Univ']=nfl_data['College/Univ'].apply(impute_college)"
   ]
  },
  {
   "cell_type": "code",
   "execution_count": 27,
   "metadata": {},
   "outputs": [
    {
     "data": {
      "text/plain": [
       "0       1\n",
       "1       1\n",
       "2       1\n",
       "3       1\n",
       "4       1\n",
       "5       1\n",
       "6       1\n",
       "7       1\n",
       "8       1\n",
       "9       1\n",
       "10      1\n",
       "11      1\n",
       "12      1\n",
       "13      1\n",
       "14      1\n",
       "15      1\n",
       "16      1\n",
       "17      1\n",
       "18      1\n",
       "19      1\n",
       "20      1\n",
       "21      1\n",
       "22      1\n",
       "23      1\n",
       "24      1\n",
       "25      1\n",
       "26      1\n",
       "27      1\n",
       "28      1\n",
       "29      1\n",
       "       ..\n",
       "8405    0\n",
       "8406    0\n",
       "8407    0\n",
       "8408    0\n",
       "8409    0\n",
       "8410    0\n",
       "8411    0\n",
       "8412    0\n",
       "8413    0\n",
       "8414    0\n",
       "8415    0\n",
       "8416    0\n",
       "8417    0\n",
       "8418    0\n",
       "8419    0\n",
       "8420    0\n",
       "8421    0\n",
       "8422    0\n",
       "8423    0\n",
       "8424    0\n",
       "8425    0\n",
       "8426    0\n",
       "8427    0\n",
       "8428    0\n",
       "8429    0\n",
       "8430    0\n",
       "8431    0\n",
       "8432    0\n",
       "8433    0\n",
       "8434    0\n",
       "Name: College/Univ, Length: 8435, dtype: int64"
      ]
     },
     "execution_count": 27,
     "metadata": {},
     "output_type": "execute_result"
    }
   ],
   "source": []
  },
  {
   "cell_type": "code",
   "execution_count": 28,
   "metadata": {},
   "outputs": [
    {
     "data": {
      "text/plain": [
       "<matplotlib.axes._subplots.AxesSubplot at 0x136d0320>"
      ]
     },
     "execution_count": 28,
     "metadata": {},
     "output_type": "execute_result"
    },
    {
     "data": {
      "image/png": "[encoded data removed]",
      "text/plain": [
       "<Figure size 432x288 with 1 Axes>"
      ]
     },
     "metadata": {},
     "output_type": "display_data"
    }
   ],
   "source": [
    "sns.heatmap(nfl_data.isnull(),yticklabels=False,cbar=False,cmap='viridis')"
   ]
  },
  {
   "cell_type": "code",
   "execution_count": 29,
   "metadata": {},
   "outputs": [
    {
     "data": {
      "text/plain": [
       "array(['QB', 'LB', 'WR', 'T', 'DE', 'RB', 'DB', 'DT', 'C', 'G', 'TE',\n",
       "       'FB', 'P', 'LS', 'K'], dtype=object)"
      ]
     },
     "execution_count": 29,
     "metadata": {},
     "output_type": "execute_result"
    }
   ],
   "source": [
    "nfl_data['Position Standard'].unique()"
   ]
  },
  {
   "cell_type": "code",
   "execution_count": 32,
   "metadata": {},
   "outputs": [
    {
     "data": {
      "text/plain": [
       "64.51495726495726"
      ]
     },
     "execution_count": 32,
     "metadata": {},
     "output_type": "execute_result"
    }
   ],
   "source": [
    "nfl_data['G'].mean()"
   ]
  },
  {
   "cell_type": "code",
   "execution_count": 33,
   "metadata": {
    "collapsed": true
   },
   "outputs": [],
   "source": [
    "def impute_G(cols):\n",
    "    Games_Played = cols\n",
    "    \n",
    "    if pd.isnull(Games_Played):\n",
    "        return 64.52\n",
    "    else: \n",
    "        return Games_Played"
   ]
  },
  {
   "cell_type": "code",
   "execution_count": 34,
   "metadata": {
    "collapsed": true
   },
   "outputs": [],
   "source": [
    "nfl_data['G']=nfl_data['G'].apply(impute_G)"
   ]
  },
  {
   "cell_type": "code",
   "execution_count": 35,
   "metadata": {},
   "outputs": [
    {
     "data": {
      "text/plain": [
       "<matplotlib.axes._subplots.AxesSubplot at 0x12ba26d8>"
      ]
     },
     "execution_count": 35,
     "metadata": {},
     "output_type": "execute_result"
    },
    {
     "data": {
      "image/png": "[encoded data removed]",
      "text/plain": [
       "<Figure size 432x288 with 1 Axes>"
      ]
     },
     "metadata": {},
     "output_type": "display_data"
    }
   ],
   "source": [
    "sns.heatmap(nfl_data.isnull(),yticklabels=False,cbar=False,cmap='viridis')"
   ]
  },
  {
   "cell_type": "code",
   "execution_count": 36,
   "metadata": {},
   "outputs": [
    {
     "data": {
      "text/plain": [
       "array([ 26.  ,  23.  ,  10.  ,  27.  ,   4.  ,  25.  ,  21.  ,  24.  ,\n",
       "        22.  ,  15.  ,  18.  ,  19.  ,  14.  ,  20.  ,  64.52,   9.  ,\n",
       "        12.  ,  11.  ,   8.  ,   1.  ,   2.  ,  13.  ,   7.  ,   6.  ,\n",
       "        17.  ,  16.  ,   3.  ,   5.  ,  42.  ,  40.  ,  31.  ,  41.  ,\n",
       "        37.  ,  35.  ,  32.  ,  29.  ,  43.  ,  39.  ,  33.  ,  36.  ,\n",
       "        34.  ,  30.  ,  38.  ,  28.  ,  56.  ,  48.  ,  54.  ,  53.  ,\n",
       "        44.  ,  52.  ,  47.  ,  57.  ,  55.  ,  58.  ,  59.  ,  46.  ,\n",
       "        45.  ,  51.  ,  50.  ,  49.  ,  65.  ,  66.  ,  72.  ,  74.  ,\n",
       "        71.  ,  63.  ,  73.  ,  69.  ,  68.  ,  62.  ,  60.  ,  64.  ,\n",
       "        61.  ,  70.  ,  67.  ,  75.  ,  87.  ,  82.  ,  80.  ,  86.  ,\n",
       "        90.  ,  88.  ,  83.  ,  79.  ,  77.  ,  91.  ,  76.  ,  84.  ,\n",
       "        89.  ,  81.  ,  78.  , 104.  ,  93.  ,  85.  , 106.  ,  97.  ,\n",
       "        94.  ,  99.  ,  95.  ,  92.  ,  96.  , 101.  ,  98.  , 102.  ,\n",
       "       116.  , 112.  , 105.  , 113.  , 111.  , 110.  , 107.  , 109.  ,\n",
       "       103.  , 118.  , 108.  , 100.  , 119.  , 122.  , 117.  , 121.  ,\n",
       "       115.  , 120.  , 123.  , 124.  , 136.  , 132.  , 126.  , 114.  ,\n",
       "       128.  , 130.  , 129.  , 135.  , 125.  , 127.  , 139.  , 155.  ,\n",
       "       145.  , 134.  , 153.  , 148.  , 140.  , 152.  , 147.  , 141.  ,\n",
       "       138.  , 150.  , 151.  , 144.  , 154.  , 160.  , 159.  , 157.  ,\n",
       "       162.  , 166.  , 143.  , 163.  , 137.  , 156.  , 133.  , 131.  ,\n",
       "       165.  , 146.  , 142.  , 170.  , 173.  , 164.  , 171.  , 168.  ,\n",
       "       161.  , 179.  , 175.  , 184.  , 195.  , 196.  , 174.  , 181.  ,\n",
       "       183.  , 190.  , 158.  , 186.  , 176.  , 187.  , 180.  , 172.  ,\n",
       "       201.  , 192.  , 169.  , 193.  , 200.  , 167.  , 203.  , 191.  ,\n",
       "       197.  , 188.  , 218.  , 149.  , 189.  , 228.  , 221.  , 207.  ,\n",
       "       211.  , 227.  , 219.  , 213.  , 206.  , 182.  , 262.  , 209.  ,\n",
       "       264.  , 231.  , 208.  , 215.  , 198.  , 205.  , 266.  , 254.  ,\n",
       "       225.  , 214.  , 217.  , 210.  , 245.  , 230.  , 270.  , 241.  ,\n",
       "       233.  , 238.  , 194.  , 185.  , 177.  , 234.  , 202.  ,   0.  ,\n",
       "       224.  , 178.  , 212.  , 223.  , 216.  , 263.  , 239.  , 220.  ,\n",
       "       327.  , 236.  , 302.  , 229.  , 244.  , 301.  , 268.  , 226.  ,\n",
       "       204.  , 297.  , 255.  , 222.  , 243.  , 199.  , 279.  , 232.  ,\n",
       "       303.  , 259.  ])"
      ]
     },
     "execution_count": 36,
     "metadata": {},
     "output_type": "execute_result"
    }
   ],
   "source": [
    "nfl_data['G'].unique()"
   ]
  },
  {
   "cell_type": "code",
   "execution_count": 37,
   "metadata": {},
   "outputs": [
    {
     "data": {
      "text/plain": [
       "Index(['Player_Id', 'Year', 'Rnd', 'Pick', 'Tm', 'Player', 'Pos',\n",
       "       'Position Standard', 'First4AV', 'Age', 'To', 'AP1', 'PB', 'St',\n",
       "       'CarAV', 'DrAV', 'G', 'Cmp', 'Pass_Att', 'Pass_Yds', 'Pass_TD',\n",
       "       'Pass_Int', 'Rush_Att', 'Rush_Yds', 'Rush_TDs', 'Rec', 'Rec_Yds',\n",
       "       'Rec_Tds', 'Tkl', 'Def_Int', 'Sk', 'College/Univ', 'Unnamed: 32'],\n",
       "      dtype='object')"
      ]
     },
     "execution_count": 37,
     "metadata": {},
     "output_type": "execute_result"
    }
   ],
   "source": [
    "nfl_data.columns"
   ]
  },
  {
   "cell_type": "code",
   "execution_count": 42,
   "metadata": {},
   "outputs": [],
   "source": [
    "def impute_Rnd(cols):\n",
    "    Rnd = cols\n",
    "    \n",
    "    if pd.isnull(Rnd):\n",
    "        return 0\n",
    "    elif Rnd == 1.0:\n",
    "        return 1\n",
    "    else: \n",
    "        return 0"
   ]
  },
  {
   "cell_type": "code",
   "execution_count": 43,
   "metadata": {
    "collapsed": true
   },
   "outputs": [],
   "source": [
    "nfl_data['Rnd']=nfl_data['Rnd'].apply(impute_Rnd)"
   ]
  },
  {
   "cell_type": "code",
   "execution_count": 45,
   "metadata": {},
   "outputs": [
    {
     "data": {
      "text/plain": [
       "array([1, 0], dtype=int64)"
      ]
     },
     "execution_count": 45,
     "metadata": {},
     "output_type": "execute_result"
    }
   ],
   "source": [
    "nfl_data['Rnd'].unique()"
   ]
  },
  {
   "cell_type": "code",
   "execution_count": 47,
   "metadata": {},
   "outputs": [
    {
     "data": {
      "text/html": [
       "<div>\n",
       "<style scoped>\n",
       "    .dataframe tbody tr th:only-of-type {\n",
       "        vertical-align: middle;\n",
       "    }\n",
       "\n",
       "    .dataframe tbody tr th {\n",
       "        vertical-align: top;\n",
       "    }\n",
       "\n",
       "    .dataframe thead th {\n",
       "        text-align: right;\n",
       "    }\n",
       "</style>\n",
       "<table border=\"1\" class=\"dataframe\">\n",
       "  <thead>\n",
       "    <tr style=\"text-align: right;\">\n",
       "      <th></th>\n",
       "      <th>Player_Id</th>\n",
       "      <th>Year</th>\n",
       "      <th>Rnd</th>\n",
       "      <th>Pick</th>\n",
       "      <th>Tm</th>\n",
       "      <th>Player</th>\n",
       "      <th>Pos</th>\n",
       "      <th>Position Standard</th>\n",
       "      <th>First4AV</th>\n",
       "      <th>Age</th>\n",
       "      <th>...</th>\n",
       "      <th>Rush_Yds</th>\n",
       "      <th>Rush_TDs</th>\n",
       "      <th>Rec</th>\n",
       "      <th>Rec_Yds</th>\n",
       "      <th>Rec_Tds</th>\n",
       "      <th>Tkl</th>\n",
       "      <th>Def_Int</th>\n",
       "      <th>Sk</th>\n",
       "      <th>College/Univ</th>\n",
       "      <th>Unnamed: 32</th>\n",
       "    </tr>\n",
       "  </thead>\n",
       "  <tbody>\n",
       "    <tr>\n",
       "      <th>0</th>\n",
       "      <td>WinsJa00</td>\n",
       "      <td>2015</td>\n",
       "      <td>1</td>\n",
       "      <td>1</td>\n",
       "      <td>TAM</td>\n",
       "      <td>Jameis Winston</td>\n",
       "      <td>QB</td>\n",
       "      <td>QB</td>\n",
       "      <td>13</td>\n",
       "      <td>21.0</td>\n",
       "      <td>...</td>\n",
       "      <td>311.0</td>\n",
       "      <td>7.0</td>\n",
       "      <td>NaN</td>\n",
       "      <td>NaN</td>\n",
       "      <td>NaN</td>\n",
       "      <td>NaN</td>\n",
       "      <td>NaN</td>\n",
       "      <td>NaN</td>\n",
       "      <td>1</td>\n",
       "      <td>NaN</td>\n",
       "    </tr>\n",
       "    <tr>\n",
       "      <th>1</th>\n",
       "      <td>MariMa01</td>\n",
       "      <td>2015</td>\n",
       "      <td>1</td>\n",
       "      <td>2</td>\n",
       "      <td>TEN</td>\n",
       "      <td>Marcus Mariota</td>\n",
       "      <td>QB</td>\n",
       "      <td>QB</td>\n",
       "      <td>9</td>\n",
       "      <td>21.0</td>\n",
       "      <td>...</td>\n",
       "      <td>516.0</td>\n",
       "      <td>4.0</td>\n",
       "      <td>1.0</td>\n",
       "      <td>41.0</td>\n",
       "      <td>1.0</td>\n",
       "      <td>NaN</td>\n",
       "      <td>NaN</td>\n",
       "      <td>NaN</td>\n",
       "      <td>1</td>\n",
       "      <td>NaN</td>\n",
       "    </tr>\n",
       "    <tr>\n",
       "      <th>2</th>\n",
       "      <td>FowlDa00</td>\n",
       "      <td>2015</td>\n",
       "      <td>1</td>\n",
       "      <td>3</td>\n",
       "      <td>JAX</td>\n",
       "      <td>Dante Fowler</td>\n",
       "      <td>OLB</td>\n",
       "      <td>LB</td>\n",
       "      <td>0</td>\n",
       "      <td>21.0</td>\n",
       "      <td>...</td>\n",
       "      <td>NaN</td>\n",
       "      <td>NaN</td>\n",
       "      <td>NaN</td>\n",
       "      <td>NaN</td>\n",
       "      <td>NaN</td>\n",
       "      <td>16.0</td>\n",
       "      <td>NaN</td>\n",
       "      <td>2.5</td>\n",
       "      <td>1</td>\n",
       "      <td>NaN</td>\n",
       "    </tr>\n",
       "    <tr>\n",
       "      <th>3</th>\n",
       "      <td>CoopAm00</td>\n",
       "      <td>2015</td>\n",
       "      <td>1</td>\n",
       "      <td>4</td>\n",
       "      <td>OAK</td>\n",
       "      <td>Amari Cooper</td>\n",
       "      <td>WR</td>\n",
       "      <td>WR</td>\n",
       "      <td>9</td>\n",
       "      <td>21.0</td>\n",
       "      <td>...</td>\n",
       "      <td>-3.0</td>\n",
       "      <td>0.0</td>\n",
       "      <td>134.0</td>\n",
       "      <td>1970.0</td>\n",
       "      <td>9.0</td>\n",
       "      <td>NaN</td>\n",
       "      <td>NaN</td>\n",
       "      <td>NaN</td>\n",
       "      <td>1</td>\n",
       "      <td>NaN</td>\n",
       "    </tr>\n",
       "    <tr>\n",
       "      <th>4</th>\n",
       "      <td>ScheBr00</td>\n",
       "      <td>2015</td>\n",
       "      <td>1</td>\n",
       "      <td>5</td>\n",
       "      <td>WAS</td>\n",
       "      <td>Brandon Scherff</td>\n",
       "      <td>T</td>\n",
       "      <td>T</td>\n",
       "      <td>7</td>\n",
       "      <td>23.0</td>\n",
       "      <td>...</td>\n",
       "      <td>NaN</td>\n",
       "      <td>NaN</td>\n",
       "      <td>NaN</td>\n",
       "      <td>NaN</td>\n",
       "      <td>NaN</td>\n",
       "      <td>NaN</td>\n",
       "      <td>NaN</td>\n",
       "      <td>NaN</td>\n",
       "      <td>1</td>\n",
       "      <td>NaN</td>\n",
       "    </tr>\n",
       "  </tbody>\n",
       "</table>\n",
       "<p>5 rows × 33 columns</p>\n",
       "</div>"
      ],
      "text/plain": [
       "  Player_Id  Year  Rnd  Pick   Tm           Player  Pos Position Standard  \\\n",
       "0  WinsJa00  2015    1     1  TAM   Jameis Winston   QB                QB   \n",
       "1  MariMa01  2015    1     2  TEN   Marcus Mariota   QB                QB   \n",
       "2  FowlDa00  2015    1     3  JAX     Dante Fowler  OLB                LB   \n",
       "3  CoopAm00  2015    1     4  OAK     Amari Cooper   WR                WR   \n",
       "4  ScheBr00  2015    1     5  WAS  Brandon Scherff    T                 T   \n",
       "\n",
       "   First4AV   Age     ...       Rush_Yds  Rush_TDs    Rec  Rec_Yds  Rec_Tds  \\\n",
       "0        13  21.0     ...          311.0       7.0    NaN      NaN      NaN   \n",
       "1         9  21.0     ...          516.0       4.0    1.0     41.0      1.0   \n",
       "2         0  21.0     ...            NaN       NaN    NaN      NaN      NaN   \n",
       "3         9  21.0     ...           -3.0       0.0  134.0   1970.0      9.0   \n",
       "4         7  23.0     ...            NaN       NaN    NaN      NaN      NaN   \n",
       "\n",
       "    Tkl  Def_Int   Sk  College/Univ  Unnamed: 32  \n",
       "0   NaN      NaN  NaN             1          NaN  \n",
       "1   NaN      NaN  NaN             1          NaN  \n",
       "2  16.0      NaN  2.5             1          NaN  \n",
       "3   NaN      NaN  NaN             1          NaN  \n",
       "4   NaN      NaN  NaN             1          NaN  \n",
       "\n",
       "[5 rows x 33 columns]"
      ]
     },
     "execution_count": 47,
     "metadata": {},
     "output_type": "execute_result"
    }
   ],
   "source": [
    "nfl_data.head()"
   ]
  },
  {
   "cell_type": "code",
   "execution_count": 48,
   "metadata": {
    "collapsed": true
   },
   "outputs": [],
   "source": [
    "X =nfl_data[['First4AV', 'Age','G', 'College/Univ']]"
   ]
  },
  {
   "cell_type": "code",
   "execution_count": 49,
   "metadata": {
    "collapsed": true
   },
   "outputs": [],
   "source": [
    "y = nfl_data['Rnd']"
   ]
  },
  {
   "cell_type": "code",
   "execution_count": 50,
   "metadata": {
    "collapsed": true
   },
   "outputs": [],
   "source": [
    "from sklearn.model_selection import train_test_split"
   ]
  },
  {
   "cell_type": "code",
   "execution_count": 51,
   "metadata": {
    "collapsed": true
   },
   "outputs": [],
   "source": [
    "X_train, X_test, y_train, y_test = train_test_split(X,y,test_size=0.3,random_state=101)"
   ]
  },
  {
   "cell_type": "code",
   "execution_count": 53,
   "metadata": {},
   "outputs": [],
   "source": [
    "from sklearn.linear_model import LogisticRegression"
   ]
  },
  {
   "cell_type": "code",
   "execution_count": 54,
   "metadata": {
    "collapsed": true
   },
   "outputs": [],
   "source": [
    "logmodel = LogisticRegression()"
   ]
  },
  {
   "cell_type": "code",
   "execution_count": 55,
   "metadata": {},
   "outputs": [
    {
     "data": {
      "text/plain": [
       "LogisticRegression(C=1.0, class_weight=None, dual=False, fit_intercept=True,\n",
       "          intercept_scaling=1, max_iter=100, multi_class='ovr', n_jobs=1,\n",
       "          penalty='l2', random_state=None, solver='liblinear', tol=0.0001,\n",
       "          verbose=0, warm_start=False)"
      ]
     },
     "execution_count": 55,
     "metadata": {},
     "output_type": "execute_result"
    }
   ],
   "source": [
    "logmodel.fit(X_train,y_train)"
   ]
  },
  {
   "cell_type": "code",
   "execution_count": 56,
   "metadata": {
    "collapsed": true
   },
   "outputs": [],
   "source": [
    "predictions = logmodel.predict(X_test)"
   ]
  },
  {
   "cell_type": "code",
   "execution_count": 57,
   "metadata": {
    "collapsed": true
   },
   "outputs": [],
   "source": [
    "from sklearn.metrics import classification_report"
   ]
  },
  {
   "cell_type": "code",
   "execution_count": 58,
   "metadata": {},
   "outputs": [
    {
     "name": "stdout",
     "output_type": "stream",
     "text": [
      "             precision    recall  f1-score   support\n",
      "\n",
      "          0       0.91      0.98      0.95      2247\n",
      "          1       0.65      0.23      0.34       284\n",
      "\n",
      "avg / total       0.88      0.90      0.88      2531\n",
      "\n"
     ]
    }
   ],
   "source": [
    "print(classification_report(y_test,predictions))"
   ]
  },
  {
   "cell_type": "code",
   "execution_count": 59,
   "metadata": {
    "collapsed": true
   },
   "outputs": [],
   "source": [
    "from sklearn.metrics import confusion_matrix"
   ]
  },
  {
   "cell_type": "code",
   "execution_count": 60,
   "metadata": {},
   "outputs": [
    {
     "data": {
      "text/plain": [
       "array([[2212,   35],\n",
       "       [ 218,   66]], dtype=int64)"
      ]
     },
     "execution_count": 60,
     "metadata": {},
     "output_type": "execute_result"
    }
   ],
   "source": [
    "confusion_matrix(y_test,predictions)"
   ]
  },
  {
   "cell_type": "code",
   "execution_count": 62,
   "metadata": {},
   "outputs": [
    {
     "data": {
      "text/plain": [
       "<seaborn.axisgrid.PairGrid at 0x170b9dd8>"
      ]
     },
     "execution_count": 62,
     "metadata": {},
     "output_type": "execute_result"
    },
    {
     "data": {
      "image/png": "[encoded data removed]",
      "text/plain": [
       "<Figure size 720x720 with 20 Axes>"
      ]
     },
     "metadata": {},
     "output_type": "display_data"
    }
   ],
   "source": [
    "sns.pairplot(X)"
   ]
  },
  {
   "cell_type": "code",
   "execution_count": 63,
   "metadata": {},
   "outputs": [
    {
     "data": {
      "text/plain": [
       "<matplotlib.axes._subplots.AxesSubplot at 0x176fb748>"
      ]
     },
     "execution_count": 63,
     "metadata": {},
     "output_type": "execute_result"
    },
    {
     "data": {
      "image/png": "[encoded data removed]",
      "text/plain": [
       "<Figure size 432x288 with 1 Axes>"
      ]
     },
     "metadata": {},
     "output_type": "display_data"
    }
   ],
   "source": [
    "sns.heatmap(X.isnull(),yticklabels=False,cbar=False,cmap='viridis')"
   ]
  },
  {
   "cell_type": "code",
   "execution_count": 75,
   "metadata": {},
   "outputs": [
    {
     "data": {
      "text/plain": [
       "<seaborn.axisgrid.JointGrid at 0x19c6f9b0>"
      ]
     },
     "execution_count": 75,
     "metadata": {},
     "output_type": "execute_result"
    },
    {
     "data": {
      "image/png": "[encoded data removed]",
      "text/plain": [
       "<Figure size 432x432 with 3 Axes>"
      ]
     },
     "metadata": {},
     "output_type": "display_data"
    }
   ],
   "source": [
    "sns.jointplot(nfl_data['G'],nfl_data['First4AV'], kind='kde')"
   ]
  },
  {
   "cell_type": "code",
   "execution_count": null,
   "metadata": {
    "collapsed": true
   },
   "outputs": [],
   "source": []
  }
 ],
 "metadata": {
  "kernelspec": {
   "display_name": "Python 3",
   "language": "python",
   "name": "python3"
  },
  "language_info": {
   "codemirror_mode": {
    "name": "ipython",
    "version": 3
   },
   "file_extension": ".py",
   "mimetype": "text/x-python",
   "name": "python",
   "nbconvert_exporter": "python",
   "pygments_lexer": "ipython3",
   "version": "3.6.4"
  }
 },
 "nbformat": 4,
 "nbformat_minor": 2
}
